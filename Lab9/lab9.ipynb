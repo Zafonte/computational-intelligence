{
 "cells": [
  {
   "cell_type": "markdown",
   "metadata": {},
   "source": [
    "Copyright **`(c)`** 2022 Giovanni Squillero `<squillero@polito.it>`  \n",
    "[`https://github.com/squillero/computational-intelligence`](https://github.com/squillero/computational-intelligence)  \n",
    "Free for personal or classroom use; see [`LICENSE.md`](https://github.com/squillero/computational-intelligence/blob/master/LICENSE.md) for details.  "
   ]
  },
  {
   "cell_type": "markdown",
   "metadata": {},
   "source": [
    "# LAB9\n",
    "\n",
    "Write a local-search algorithm (eg. an EA) able to solve the *Problem* instances 1, 2, 5, and 10 on a 1000-loci genomes, using a minimum number of fitness calls. That's all.\n",
    "\n",
    "### Deadlines:\n",
    "\n",
    "* Submission: Sunday, December 3 ([CET](https://www.timeanddate.com/time/zones/cet))\n",
    "* Reviews: Sunday, December 10 ([CET](https://www.timeanddate.com/time/zones/cet))\n",
    "\n",
    "Notes:\n",
    "\n",
    "* Reviews will be assigned  on Monday, December 4\n",
    "* You need to commit in order to be selected as a reviewer (ie. better to commit an empty work than not to commit)"
   ]
  },
  {
   "cell_type": "code",
   "execution_count": 11,
   "metadata": {},
   "outputs": [],
   "source": [
    "from random import choices\n",
    "\n",
    "import lab9_lib"
   ]
  },
  {
   "cell_type": "code",
   "execution_count": 12,
   "metadata": {},
   "outputs": [
    {
     "name": "stdout",
     "output_type": "stream",
     "text": [
      "01101001110110001010100110111000110100001111101000: 28.00%\n",
      "10001000010001001110111001000111101010001000001010: 24.60%\n",
      "01011111000111011011110101101010111001110010101011: 29.00%\n",
      "11001110000111101011101001110001000000110001110001: 48.00%\n",
      "11111000011101010001001110000111011100011110101110: 27.40%\n",
      "11011111000001010100110000000111111000111000000000: 22.20%\n",
      "01010111101001111111001000100101000111001111100110: 27.40%\n",
      "01101000000010010011001010100010100001100100101111: 24.60%\n",
      "00000001001100001100100101110100011101001100010100: 24.80%\n",
      "11101000001001010110100111111010001101111000000101: 23.60%\n",
      "10\n"
     ]
    }
   ],
   "source": [
    "fitness = lab9_lib.make_problem(2)\n",
    "for n in range(10):\n",
    "    ind = choices([0, 1], k=50)\n",
    "    print(f\"{''.join(str(g) for g in ind)}: {fitness(ind):.2%}\")\n",
    "\n",
    "print(fitness.calls)"
   ]
  },
  {
   "cell_type": "code",
   "execution_count": null,
   "metadata": {},
   "outputs": [],
   "source": []
  }
 ],
 "metadata": {
  "kernelspec": {
   "display_name": "ci-fLJ3OwGs-py3.12",
   "language": "python",
   "name": "python3"
  },
  "language_info": {
   "codemirror_mode": {
    "name": "ipython",
    "version": 3
   },
   "file_extension": ".py",
   "mimetype": "text/x-python",
   "name": "python",
   "nbconvert_exporter": "python",
   "pygments_lexer": "ipython3",
   "version": "3.12.0"
  }
 },
 "nbformat": 4,
 "nbformat_minor": 2
}
