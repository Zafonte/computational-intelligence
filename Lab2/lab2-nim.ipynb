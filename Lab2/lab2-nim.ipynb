{
 "cells": [
  {
   "cell_type": "markdown",
   "metadata": {
    "pycharm": {
     "name": "#%% md\n"
    }
   },
   "source": [
    "Copyright **`(c)`** 2023 Francesca Zafonte `<s319331@studenti.polito.it>`  \n",
    "[`https://github.com/Zafonte/computational-intelligence`](https://github.com/Zafonte/computational-intelligence)  \n"
   ]
  },
  {
   "cell_type": "markdown",
   "metadata": {
    "pycharm": {
     "name": "#%%\n"
    }
   },
   "source": [
    "# Lab 3: ES\n",
    "\n",
    "## Task\n",
    "\n",
    "Write agents able to play [*Nim*](https://en.wikipedia.org/wiki/Nim), with an arbitrary number of rows and an upper bound $k$ on the number of objects that can be removed in a turn (a.k.a., *subtraction game*).\n",
    "\n",
    "The goal of the game is to **avoid** taking the last object.\n",
    "\n",
    "* Task2.1: An agent using fixed rules based on *nim-sum* (i.e., an *expert system*)\n",
    "* Task2.2: An agent using evolved rules using ES\n",
    "\n",
    "## Instructions\n",
    "\n",
    "* Create the directory `lab2` inside your personal course repository for the course \n",
    "* Put a `README.md` and your solution (all the files, code and auxiliary data if needed)\n",
    "\n",
    "## Notes\n",
    "\n",
    "* Working in group is not only allowed, but recommended (see: [Ubuntu](https://en.wikipedia.org/wiki/Ubuntu_philosophy) and [Cooperative Learning](https://files.eric.ed.gov/fulltext/EJ1096789.pdf)). Collaborations must be explicitly declared in the `README.md`.\n",
    "* [Yanking](https://www.emacswiki.org/emacs/KillingAndYanking) from the internet is allowed, but sources must be explicitly declared in the `README.md`.\n",
    "\n"
   ]
  },
  {
   "cell_type": "code",
   "execution_count": 9,
   "metadata": {},
   "outputs": [],
   "source": [
    "import logging\n",
    "from pprint import pprint, pformat\n",
    "from collections import namedtuple\n",
    "import random\n",
    "from copy import deepcopy\n"
   ]
  },
  {
   "cell_type": "markdown",
   "metadata": {},
   "source": [
    "## The *Nim* and *Nimply* classes"
   ]
  },
  {
   "cell_type": "code",
   "execution_count": 10,
   "metadata": {},
   "outputs": [],
   "source": [
    "Nimply = namedtuple(\"Nimply\", \"row, num_objects\") #\n"
   ]
  },
  {
   "cell_type": "code",
   "execution_count": 11,
   "metadata": {},
   "outputs": [],
   "source": [
    "class Nim:\n",
    "    def __init__(self, num_rows: int, k: int = None) -> None: \n",
    "        self._rows = [i * 2 + 1 for i in range(num_rows)] \n",
    "        self._k = k \n",
    "\n",
    "    def __bool__(self): \n",
    "        return sum(self._rows) > 0\n",
    "\n",
    "    def __str__(self): \n",
    "        return \"<\" + \" \".join(str(_) for _ in self._rows) + \">\"\n",
    "\n",
    "    @property\n",
    "    def rows(self) -> tuple: \n",
    "        return tuple(self._rows)\n",
    "\n",
    "    def nimming(self, ply: Nimply) -> None:\n",
    "        row, num_objects = ply \n",
    "        assert self._rows[row] >= num_objects\n",
    "        assert self._k is None or num_objects <= self._k \n",
    "        self._rows[row] -= num_objects\n",
    "        "
   ]
  },
  {
   "cell_type": "markdown",
   "metadata": {},
   "source": [
    "## Sample (and silly) startegies "
   ]
  },
  {
   "cell_type": "code",
   "execution_count": 12,
   "metadata": {},
   "outputs": [],
   "source": [
    "#STRATEGY 1\n",
    "\n",
    "def pure_random(state: Nim) -> Nimply:\n",
    "    \"\"\"A completely random move\"\"\"\n",
    "    row = random.choice([r for r, c in enumerate(state.rows) if c > 0])\n",
    "    num_objects = random.randint(1, state.rows[row])\n",
    "    return Nimply(row, num_objects) \n"
   ]
  },
  {
   "cell_type": "code",
   "execution_count": 13,
   "metadata": {},
   "outputs": [],
   "source": [
    "#STRATEGY 2\n",
    "\n",
    "def gabriele(state: Nim) -> Nimply:\n",
    "    \"\"\"Pick always the maximum possible number of the lowest row\"\"\"\n",
    "    possible_moves = [(r, o) for r, c in enumerate(state.rows) for o in range(1, c + 1)]\n",
    "    return Nimply(*max(possible_moves, key=lambda m: (-m[0], m[1])))\n"
   ]
  },
  {
   "cell_type": "code",
   "execution_count": 14,
   "metadata": {},
   "outputs": [],
   "source": [
    "def adaptive(state: Nim) -> Nimply:\n",
    "    \"\"\"A strategy that can adapt its parameters\"\"\"\n",
    "    genome = {\"love_small\": 0.5}\n"
   ]
  },
  {
   "cell_type": "code",
   "execution_count": 15,
   "metadata": {},
   "outputs": [],
   "source": [
    "#STRATEGY 3 \n",
    "\n",
    "import numpy as np\n",
    "\n",
    "\n",
    "def nim_sum(state: Nim) -> int:\n",
    "    tmp = np.array([tuple(int(x) for x in f\"{c:032b}\") for c in state.rows])\n",
    "    xor = tmp.sum(axis=0) % 2\n",
    "    return int(\"\".join(str(_) for _ in xor), base=2)\n",
    "\n",
    "\n",
    "def analize(raw: Nim) -> dict:\n",
    "    cooked = dict()\n",
    "    cooked[\"possible_moves\"] = dict() \n",
    "    for ply in (Nimply(r, o) for r, c in enumerate(raw.rows) for o in range(1, c + 1)): \n",
    "        tmp = deepcopy(raw)\n",
    "        tmp.nimming(ply)\n",
    "        cooked[\"possible_moves\"][ply] = nim_sum(tmp) \n",
    "    return cooked\n",
    "\n",
    "\n",
    "def optimal(state: Nim) -> Nimply:\n",
    "    analysis = analize(state) \n",
    "    logging.debug(f\"analysis:\\n{pformat(analysis)}\")\n",
    "    spicy_moves = [ply for ply, ns in analysis[\"possible_moves\"].items() if ns != 0] \n",
    "    if not spicy_moves:\n",
    "        spicy_moves = list(analysis[\"possible_moves\"].keys())\n",
    "    ply = random.choice(spicy_moves)\n",
    "    return ply"
   ]
  },
  {
   "cell_type": "markdown",
   "metadata": {},
   "source": [
    "STRATEGY 4 - ES"
   ]
  },
  {
   "cell_type": "code",
   "execution_count": null,
   "metadata": {},
   "outputs": [],
   "source": [
    "#define n action \n",
    "N_ACTION = 5\n",
    "\n",
    "#it takes one element from a row\n",
    "def a1(state: Nim) -> Nimply:\n",
    "    row = random.choice([r for r, c in enumerate(state.rows) if c > 0])\n",
    "    num_objects = 1\n",
    "    if state.rows[row] >= num_objects:\n",
    "        state.rows[row] -= num_objects\n",
    "    return Nimply(row, state.rows[row]) \n",
    "\n",
    "#it take two element from a row\n",
    "def a2(state: Nim) -> Nimply:\n",
    "    row = random.choice([r for r, c in enumerate(state.rows) if c > 0])\n",
    "    num_objects = 2\n",
    "    if state.rows[row] >= num_objects:\n",
    "        state.rows[row] -= num_objects\n",
    "    return Nimply(row, state.rows[row]) \n",
    "\n",
    "#it take three element from a row\n",
    "def a3(state: Nim) -> Nimply:\n",
    "    row = random.choice([r for r, c in enumerate(state.rows) if c > 0])\n",
    "    num_objects = 3\n",
    "    if state.rows[row] >= num_objects:\n",
    "        state.rows[row] -= num_objects\n",
    "    return Nimply(row, state.rows[row]) \n",
    "\n",
    "#it take four element from a row\n",
    "def a4(state: Nim) -> Nimply:\n",
    "    row = random.choice([r for r, c in enumerate(state.rows) if c > 0])\n",
    "    num_objects = 4\n",
    "    if state.rows[row] >= num_objects:\n",
    "        state.rows[row] -= num_objects\n",
    "    return Nimply(row, state.rows[row]) \n",
    "\n",
    "#it take n-1 element from a row where n is the lenght of the row\n",
    "def a5(state: Nim) -> Nimply:\n",
    "    row = random.choice([r for r, c in enumerate(state.rows) if c > 0])\n",
    "    num_objects = state.rows[row] - 1\n",
    "    if state.rows[row] >= num_objects:\n",
    "        state.rows[row] -= num_objects\n",
    "    return Nimply(row, state.rows[row]) \n"
   ]
  },
  {
   "cell_type": "code",
   "execution_count": null,
   "metadata": {},
   "outputs": [],
   "source": [
    "N_PLAYS = 20\n",
    "actions = [pure_random, gabriele, optimal, a1, a2, a3, a4, a5]\n",
    "\n",
    "#Every action has a weight and a win_percentage\n",
    "#I use the weight to do the Gaussian Mutation \n",
    "#I use the win_percentage to find the best strategy\n",
    "\n",
    "\n",
    "#Compute the %win with an action \n",
    "def fitness(state: action) -> float:\n",
    "    return win_percentage\n",
    "\n",
    "\n",
    "\n",
    "#I define the Mutation function that change the weight of the strategy using a Gaussian Mutation\n",
    "def mutation(state: action, λ: int, σ: float):   \n",
    "    for _ in range(λ):\n",
    "        weight = np.random.normal(loc=0, scale=σ, size=(state.__len__())) + state.weight()\n",
    "        weight = weight / sum(weight)  \n",
    "    \n",
    "    return weight\n",
    "\n",
    "\n"
   ]
  },
  {
   "cell_type": "markdown",
   "metadata": {},
   "source": [
    "## Adaptive (μ+λ)-ES"
   ]
  },
  {
   "cell_type": "code",
   "execution_count": null,
   "metadata": {},
   "outputs": [],
   "source": [
    "#Code of the prof - to adjust in order to solve my problem\n",
    "def evolutionary_strategy(state: Nim) -> Nimply:\n",
    "    μ = 2\n",
    "    λ = 5\n",
    "    sigma = 1\n",
    "\n",
    "    weights = []\n",
    "\n",
    "    population = np.random.random((μ, N_DIM + 1))\n",
    "    population[:, :-1] = population[:, :-1] * 5.12 * 2 - 5.12\n",
    "    population[:, -1] *= σ\n",
    "\n",
    "    best_fitness = None\n",
    "    history = list()\n",
    "    for step in tqdm(range(1_000_000 // λ)):\n",
    "        # offspring <- select λ random points from the population of μ\n",
    "        offspring = population[np.random.randint(0, μ, size=(λ,))]\n",
    "        # mutate all σ (last column) and replace negative values with a small number\n",
    "        offspring[:, -1] = np.random.normal(\n",
    "            loc=offspring[:, -1], scale=0.2\n",
    "        )\n",
    "        offspring[offspring[:, -1] < 1e-5, -1] = 1e-5\n",
    "        # mutate all v (all columns but the last), using the σ in the last column\n",
    "        offspring[:, 0:-1] = np.random.normal(\n",
    "            loc=offspring[:, 0:-1], scale=offspring[:, -1].reshape(-1, 1)\n",
    "        )\n",
    "        #Evaluation = computing the fitness of an individual (an action)\n",
    "        # add an extra column with the evaluation and sort\n",
    "        fitness = rastrigin(offspring[:, 0:-1])\n",
    "        offspring = offspring[fitness.argsort()]\n",
    "        # save best (just for the plot)\n",
    "        if best_fitness is None or best_fitness < np.max(fitness):\n",
    "            best_fitness = np.max(fitness)\n",
    "            history.append((step, best_fitness))\n",
    "        # select the μ with max fitness and discard fitness\n",
    "        population = np.copy(offspring[-μ:])\n",
    "\n",
    "    fitness = rastrigin(population[:, 0:-1])\n",
    "    logging.info(\n",
    "        f\"Best solution: {fitness.max()} (with σ={population[fitness.argmax(), -1]:0.3g})\"\n",
    "    )\n",
    "\n",
    "return best\n",
    "\n"
   ]
  },
  {
   "cell_type": "code",
   "execution_count": null,
   "metadata": {},
   "outputs": [],
   "source": [
    "#history = np.array(history)\n",
    "#plt.figure(figsize=(14, 4))\n",
    "#plt.plot(history[:, 0], history[:, 1], marker=\".\")"
   ]
  },
  {
   "cell_type": "markdown",
   "metadata": {},
   "source": [
    "## Oversimplified match"
   ]
  },
  {
   "cell_type": "code",
   "execution_count": 16,
   "metadata": {},
   "outputs": [
    {
     "name": "stderr",
     "output_type": "stream",
     "text": [
      "INFO:root:init : <1 3 5 7 9>\n",
      "INFO:root:ply: player 0 plays Nimply(row=4, num_objects=6)\n",
      "INFO:root:status: <1 3 5 7 3>\n",
      "INFO:root:ply: player 1 plays Nimply(row=0, num_objects=1)\n",
      "INFO:root:status: <0 3 5 7 3>\n",
      "INFO:root:ply: player 0 plays Nimply(row=3, num_objects=5)\n",
      "INFO:root:status: <0 3 5 2 3>\n",
      "INFO:root:ply: player 1 plays Nimply(row=1, num_objects=2)\n",
      "INFO:root:status: <0 1 5 2 3>\n",
      "INFO:root:ply: player 0 plays Nimply(row=3, num_objects=1)\n",
      "INFO:root:status: <0 1 5 1 3>\n",
      "INFO:root:ply: player 1 plays Nimply(row=3, num_objects=1)\n",
      "INFO:root:status: <0 1 5 0 3>\n",
      "INFO:root:ply: player 0 plays Nimply(row=4, num_objects=3)\n",
      "INFO:root:status: <0 1 5 0 0>\n",
      "INFO:root:ply: player 1 plays Nimply(row=1, num_objects=1)\n",
      "INFO:root:status: <0 0 5 0 0>\n",
      "INFO:root:ply: player 0 plays Nimply(row=2, num_objects=2)\n",
      "INFO:root:status: <0 0 3 0 0>\n",
      "INFO:root:ply: player 1 plays Nimply(row=2, num_objects=3)\n",
      "INFO:root:status: <0 0 0 0 0>\n",
      "INFO:root:status: Player 0 won!\n"
     ]
    }
   ],
   "source": [
    "logging.getLogger().setLevel(logging.INFO) \n",
    "\n",
    "strategy = (evolutionary_strategy, pure_random) \n",
    "\n",
    "nim = Nim(5) \n",
    "logging.info(f\"init : {nim}\") \n",
    "player = 0\n",
    "while nim:\n",
    "    ply = strategy[player](nim) \n",
    "    logging.info(f\"ply: player {player} plays {ply}\")\n",
    "    nim.nimming(ply) \n",
    "    logging.info(f\"status: {nim}\")\n",
    "    player = 1 - player \n",
    "logging.info(f\"status: Player {player} won!\")\n",
    "\n"
   ]
  }
 ],
 "metadata": {
  "kernelspec": {
   "display_name": "Python 3.10.7 ('ci22-dPIXJ0_o-py3.10')",
   "language": "python",
   "name": "python3"
  },
  "language_info": {
   "codemirror_mode": {
    "name": "ipython",
    "version": 3
   },
   "file_extension": ".py",
   "mimetype": "text/x-python",
   "name": "python",
   "nbconvert_exporter": "python",
   "pygments_lexer": "ipython3",
   "version": "3.12.0"
  },
  "vscode": {
   "interpreter": {
    "hash": "10197e8e2f2aa67e2c349105091c77f4cd384fce4877865f002d9ec653f96bc0"
   }
  }
 },
 "nbformat": 4,
 "nbformat_minor": 2
}
