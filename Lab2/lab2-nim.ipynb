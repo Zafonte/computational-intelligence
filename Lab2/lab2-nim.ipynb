{
 "cells": [
  {
   "cell_type": "markdown",
   "metadata": {
    "pycharm": {
     "name": "#%% md\n"
    }
   },
   "source": [
    "Copyright **`(c)`** 2023 Zafonte Francesca `<s319331@studenti.polito.it>`  \n",
    "[`https://github.com/Zafonte/computational-intelligence`](https://github.com/Zafonte/computational-intelligence)  "
   ]
  },
  {
   "cell_type": "markdown",
   "metadata": {
    "pycharm": {
     "name": "#%%\n"
    }
   },
   "source": [
    "# Lab 2: ES\n",
    "\n",
    "## Task\n",
    "\n",
    "Write agents able to play [*Nim*](https://en.wikipedia.org/wiki/Nim), with an arbitrary number of rows and an upper bound $k$ on the number of objects that can be removed in a turn (a.k.a., *subtraction game*).\n",
    "\n",
    "The goal of the game is to **avoid** taking the last object.\n",
    "\n",
    "* Task2.1: An agent using fixed rules based on *nim-sum* (i.e., an *expert system*)\n",
    "* Task2.2: An agent using evolved rules using ES\n",
    "\n",
    "## Instructions\n",
    "\n",
    "* Create the directory `lab2` inside your personal course repository for the course \n",
    "* Put a `README.md` and your solution (all the files, code and auxiliary data if needed)\n",
    "\n",
    "## Notes\n",
    "\n",
    "* Working in group is not only allowed, but recommended (see: [Ubuntu](https://en.wikipedia.org/wiki/Ubuntu_philosophy) and [Cooperative Learning](https://files.eric.ed.gov/fulltext/EJ1096789.pdf)). Collaborations must be explicitly declared in the `README.md`.\n",
    "* [Yanking](https://www.emacswiki.org/emacs/KillingAndYanking) from the internet is allowed, but sources must be explicitly declared in the `README.md`.\n",
    "\n"
   ]
  },
  {
   "cell_type": "code",
   "execution_count": 61,
   "metadata": {},
   "outputs": [],
   "source": [
    "import logging\n",
    "from pprint import pprint, pformat\n",
    "from collections import namedtuple\n",
    "import random\n",
    "from copy import deepcopy\n",
    "from matplotlib import pyplot as plt\n"
   ]
  },
  {
   "cell_type": "markdown",
   "metadata": {},
   "source": [
    "## The *Nim* and *Nimply* classes"
   ]
  },
  {
   "cell_type": "code",
   "execution_count": 62,
   "metadata": {},
   "outputs": [],
   "source": [
    "Nimply = namedtuple(\"Nimply\", \"row, num_objects\") #\n"
   ]
  },
  {
   "cell_type": "code",
   "execution_count": 63,
   "metadata": {},
   "outputs": [],
   "source": [
    "class Nim:\n",
    "    def __init__(self, num_rows: int, k: int = None) -> None: \n",
    "        self._rows = [i * 2 + 1 for i in range(num_rows)] \n",
    "        self._k = k \n",
    "\n",
    "    def __bool__(self): \n",
    "        return sum(self._rows) > 0\n",
    "\n",
    "    def __str__(self): \n",
    "        return \"<\" + \" \".join(str(_) for _ in self._rows) + \">\"\n",
    "\n",
    "    @property\n",
    "    def rows(self) -> tuple: \n",
    "        return tuple(self._rows)\n",
    "\n",
    "    def nimming(self, ply: Nimply) -> None:\n",
    "        row, num_objects = ply \n",
    "        assert self._rows[row] >= num_objects\n",
    "        assert self._k is None or num_objects <= self._k \n",
    "        self._rows[row] -= num_objects\n"
   ]
  },
  {
   "cell_type": "markdown",
   "metadata": {},
   "source": [
    "## Sample (and silly) startegies "
   ]
  },
  {
   "cell_type": "code",
   "execution_count": 64,
   "metadata": {},
   "outputs": [],
   "source": [
    "#STRATEGIA 1\n",
    "\n",
    "def pure_random(state: Nim) -> Nimply:\n",
    "    \"\"\"A completely random move\"\"\"\n",
    "    row = random.choice([r for r, c in enumerate(state.rows) if c > 0])\n",
    "    num_objects = random.randint(1, state.rows[row])\n",
    "    return Nimply(row, num_objects) \n",
    "\n",
    "\n"
   ]
  },
  {
   "cell_type": "code",
   "execution_count": 65,
   "metadata": {},
   "outputs": [],
   "source": [
    "#STRATEGIA 2\n",
    "\n",
    "def gabriele(state: Nim) -> Nimply:\n",
    "    \"\"\"Pick always the maximum possible number of the lowest row\"\"\"\n",
    "    possible_moves = [(r, o) for r, c in enumerate(state.rows) for o in range(1, c + 1)]\n",
    "    return Nimply(*max(possible_moves, key=lambda m: (-m[0], m[1])))\n"
   ]
  },
  {
   "cell_type": "code",
   "execution_count": 66,
   "metadata": {},
   "outputs": [],
   "source": [
    "def adaptive(state: Nim) -> Nimply:\n",
    "    \"\"\"A strategy that can adapt its parameters\"\"\"\n",
    "    genome = {\"love_small\": 0.5}\n"
   ]
  },
  {
   "cell_type": "code",
   "execution_count": 67,
   "metadata": {},
   "outputs": [],
   "source": [
    "#STRATEGIA 3 \n",
    "\n",
    "import numpy as np\n",
    "\n",
    "\n",
    "def nim_sum(state: Nim) -> int:\n",
    "    tmp = np.array([tuple(int(x) for x in f\"{c:032b}\") for c in state.rows])\n",
    "    xor = tmp.sum(axis=0) % 2\n",
    "    return int(\"\".join(str(_) for _ in xor), base=2)\n",
    "\n",
    "\n",
    "def analize(raw: Nim) -> dict:\n",
    "    cooked = dict()\n",
    "    cooked[\"possible_moves\"] = dict() \n",
    "    for ply in (Nimply(r, o) for r, c in enumerate(raw.rows) for o in range(1, c + 1)): \n",
    "        tmp = deepcopy(raw)\n",
    "        tmp.nimming(ply)\n",
    "        cooked[\"possible_moves\"][ply] = nim_sum(tmp) \n",
    "    return cooked\n",
    "\n",
    "\n",
    "def optimal(state: Nim) -> Nimply:\n",
    "    analysis = analize(state) \n",
    "    logging.debug(f\"analysis:\\n{pformat(analysis)}\")\n",
    "    spicy_moves = [ply for ply, ns in analysis[\"possible_moves\"].items() if ns != 0] \n",
    "    if not spicy_moves:\n",
    "        spicy_moves = list(analysis[\"possible_moves\"].keys())\n",
    "    ply = random.choice(spicy_moves)\n",
    "    return ply"
   ]
  },
  {
   "cell_type": "code",
   "execution_count": 68,
   "metadata": {},
   "outputs": [],
   "source": [
    "#Others STRATEGIES for ES\n",
    "\n",
    "#it takes one element from a row\n",
    "def a1(state: Nim) -> Nimply:\n",
    "    row = random.choice([r for r, c in enumerate(state.rows) if c > 0])\n",
    "    num_objects = 1\n",
    "    if state.rows[row] >= num_objects:\n",
    "        state.rows[row] -= num_objects\n",
    "    return Nimply(row, state.rows[row]) \n",
    "\n",
    "#it take two element from a row\n",
    "def a2(state: Nim) -> Nimply:\n",
    "    row = random.choice([r for r, c in enumerate(state.rows) if c > 0])\n",
    "    num_objects = 2\n",
    "    if state.rows[row] >= num_objects:\n",
    "        state.rows[row] -= num_objects\n",
    "    return Nimply(row, state.rows[row]) \n",
    "\n",
    "#it take three element from a row\n",
    "def a3(state: Nim) -> Nimply:\n",
    "    row = random.choice([r for r, c in enumerate(state.rows) if c > 0])\n",
    "    num_objects = 3\n",
    "    if state.rows[row] >= num_objects:\n",
    "        state.rows[row] -= num_objects\n",
    "    return Nimply(row, state.rows[row]) \n",
    "\n",
    "#it take four element from a row\n",
    "def a4(state: Nim) -> Nimply:\n",
    "    row = random.choice([r for r, c in enumerate(state.rows) if c > 0])\n",
    "    num_objects = 4\n",
    "    if state.rows[row] >= num_objects:\n",
    "        state.rows[row] -= num_objects\n",
    "    return Nimply(row, state.rows[row]) \n",
    "\n",
    "#it take n-1 element from a row where n is the lenght of the row\n",
    "def a5(state: Nim) -> Nimply:\n",
    "    row = random.choice([r for r, c in enumerate(state.rows) if c > 0])\n",
    "    num_objects = state.rows[row] - 1\n",
    "    if state.rows[row] >= num_objects:\n",
    "        state.rows[row] -= num_objects\n",
    "    return Nimply(row, state.rows[row]) \n"
   ]
  },
  {
   "cell_type": "code",
   "execution_count": 69,
   "metadata": {},
   "outputs": [],
   "source": [
    "class Strategy:\n",
    "    def __init__(self, name, weight, win_percentage) -> None:\n",
    "        self._name = name\n",
    "        self._weight = weight\n",
    "        self._win_percentage = win_percentage\n",
    "    \n",
    "    def __len__(self) -> int:\n",
    "        return len(self._weight)\n",
    "\n",
    "    def get_name(self):\n",
    "        return self._name\n",
    "\n",
    "    def get_weight(self) -> float:\n",
    "        return self._weight\n",
    "\n",
    "    def set_weight(self, weight: float) -> None:\n",
    "        self._weight = weight\n",
    "\n",
    "    def set_win_percentage(self, win_percentage: float) -> None:\n",
    "        self._win_percentage = win_percentage"
   ]
  },
  {
   "cell_type": "code",
   "execution_count": 70,
   "metadata": {},
   "outputs": [],
   "source": [
    "weight = 1/5 #I set a proportional weight, at the start\n",
    "win_percentage = 0.0\n",
    "\n",
    "#I define a strategy how an action with weight and win_percentage\n",
    "strategy1 = Strategy(a1, weight, win_percentage)\n",
    "strategy2 = Strategy(a2, weight, win_percentage)\n",
    "strategy3 = Strategy(a3, weight, win_percentage)\n",
    "strategy4 = Strategy(a4, weight, win_percentage)\n",
    "strategy5 = Strategy(a5, weight, win_percentage)\n"
   ]
  },
  {
   "cell_type": "code",
   "execution_count": 71,
   "metadata": {},
   "outputs": [],
   "source": [
    "N_PLAYS = 5\n",
    "NIM_SIZE = 5\n",
    "\n",
    "#Every action has a weight and a win_percentage\n",
    "#I will use the weight to do the Gaussian Mutation \n",
    "#I will use the win_percentage to find the best strategy\n",
    "\n",
    "\n",
    "#Compute the %win with an action.\n",
    "def fitness(action: callable) -> float:\n",
    "    strategies = [action, pure_random]\n",
    "    won = 0\n",
    "\n",
    "    for i in range(N_PLAYS):  \n",
    "        nimGame = Nim(NIM_SIZE) #rows of the game\n",
    "        logging.info(f\"init : {nim}\") \n",
    "        player = 0\n",
    "        while nimGame:\n",
    "            ply = strategies[player](nimGame) \n",
    "            logging.info(f\"ply: player {player} plays {ply}\")\n",
    "            nimGame.nimming(ply) \n",
    "            logging.info(f\"status: {nimGame}\")\n",
    "            player = 1 - player \n",
    "        if player == 0:\n",
    "            won += 1\n",
    "            \n",
    "    logging.info(f\"status: Player 0 won {won} match with {action} strategy!\")\n",
    "    win_percentage = won / N_PLAYS\n",
    "    \n",
    "    if action == a1:\n",
    "        strategy1.set_win_percentage(win_percentage)\n",
    "        return strategy1._win_percentage\n",
    "    if action == a2:\n",
    "        strategy2.set_win_percentage(win_percentage)\n",
    "        return strategy2._win_percentage\n",
    "    if action == a3:\n",
    "        strategy3.set_win_percentage(win_percentage)\n",
    "        return strategy3._win_percentage\n",
    "    if action == a4:\n",
    "        strategy4.set_win_percentage(win_percentage)\n",
    "        return strategy4._win_percentage\n",
    "    if action == a5:\n",
    "        strategy5.set_win_percentage(win_percentage)\n",
    "        return strategy5._win_percentage\n",
    "\n",
    "\n",
    "\n",
    "#I define the Mutation function that change the weight of the strategy using the fitness function and a Gaussian Mutation\n",
    "#if the percentage of win is low -> small sigma \n",
    "#otherwise -> large sigma\n",
    "def mutation(action: callable, sigma: float) -> callable:  \n",
    "    if action == a1:\n",
    "        if strategy1._win_percentage < 0.5:  \n",
    "            weight = strategy1.get_weight() + np.random.normal(loc=0, scale=sigma, size=(strategy1.__len__())) \n",
    "            strategy1.set_weight(weight)\n",
    "        else:\n",
    "            weight = strategy1.get_weight() + np.random.normal(loc=0, scale=sigma+1, size=(strategy1.__len__())) \n",
    "            strategy1.set_weight(weight)\n",
    "    \n",
    "    if action == a2:\n",
    "        if strategy2._win_percentage < 0.5:  \n",
    "            weight = strategy2.get_weight() + np.random.normal(loc=0, scale=sigma, size=(strategy2.__len__())) \n",
    "            strategy2.set_weight(weight)\n",
    "        else:\n",
    "            weight = strategy1.get_weight() + np.random.normal(loc=0, scale=sigma+1, size=(strategy2.__len__())) \n",
    "            strategy2.set_weight(weight)\n",
    "    \n",
    "    if action == a3:\n",
    "        if strategy3._win_percentage < 0.5:  \n",
    "            weight = strategy3.get_weight() + np.random.normal(loc=0, scale=sigma, size=(strategy3.__len__())) \n",
    "            strategy3.set_weight(weight)\n",
    "        else:\n",
    "            weight = strategy3.get_weight() + np.random.normal(loc=0, scale=sigma+1, size=(strategy3.__len__())) \n",
    "            strategy3.set_weight(weight)\n",
    "\n",
    "    if action == a4:\n",
    "        if strategy4._win_percentage < 0.5:  \n",
    "            weight = strategy4.get_weight() + np.random.normal(loc=0, scale=sigma, size=(strategy4.__len__())) \n",
    "            strategy4.set_weight(weight)\n",
    "        else:\n",
    "            weight = strategy4.get_weight() + np.random.normal(loc=0, scale=sigma+1, size=(strategy4.__len__())) \n",
    "            strategy4.set_weight(weight)\n",
    "    \n",
    "    if action == a5:\n",
    "        if strategy5._win_percentage < 0.5:  \n",
    "            weight = strategy5.get_weight() + np.random.normal(loc=0, scale=sigma, size=(strategy5.__len__())) \n",
    "            strategy5.set_weight(weight)\n",
    "        else:\n",
    "            weight = strategy5.get_weight() + np.random.normal(loc=0, scale=sigma+1, size=(strategy5.__len__())) \n",
    "            strategy5.set_weight(weight)\n",
    "    \n",
    "    return action\n",
    "     \n",
    "   \n",
    "    "
   ]
  },
  {
   "cell_type": "markdown",
   "metadata": {},
   "source": [
    "## Adaptive (μ+λ)-ES"
   ]
  },
  {
   "cell_type": "code",
   "execution_count": 72,
   "metadata": {},
   "outputs": [],
   "source": [
    "def evolutionary_strategy(state: Nim) -> callable:\n",
    "    μ = 2 #number of parents selected\n",
    "    λ = 5 #number of childred generated by the parents\n",
    "    sigma = 0.001\n",
    "\n",
    "    #build initial population\n",
    "    population = [a1, a2, a3, a4, a5]\n",
    "    win = [] #cointains the percentage of win of other strategy\n",
    "        \n",
    "    best_fitness = None\n",
    "  \n",
    "    for step in range(100 // λ): \n",
    "        #for each individual in population \n",
    "        for i in population:\n",
    "            #Evaluation = computing the fitness of an individual \n",
    "            win_percentage = fitness(i)\n",
    "            win.append(win_percentage)\n",
    "            if best_fitness is None or win_percentage > fitness(best_fitness):\n",
    "                best_fitness = i\n",
    "\n",
    "        #order the population in function of the %win [max..min]\n",
    "        population =  population[win.argsort()][::-1]    \n",
    "        #select the μ with max fitness and discard fitness - Truncation Selection\n",
    "        #q = number of parent which survive\n",
    "        q = population[:μ]\n",
    "\n",
    "        #join operation that is the only difference with (μ, λ)\n",
    "        population = q.copy()\n",
    "        #for each individual_selected = individual whose fitness are gratest\n",
    "        for z in q:\n",
    "            for _ in range(λ//μ):\n",
    "                mutated_individual = mutation(np.copy(z), sigma)  # Use np.copy for array, remove if z is an integer\n",
    "                population.append(mutated_individual)\n",
    "\n",
    "    player = best_fitness(state)\n",
    "    return player\n"
   ]
  },
  {
   "cell_type": "markdown",
   "metadata": {},
   "source": [
    "## Adaptive (μ, λ)-ES"
   ]
  },
  {
   "cell_type": "code",
   "execution_count": 73,
   "metadata": {},
   "outputs": [],
   "source": [
    "def evolutionary_strategy_alwaysReplace(state: Nim) -> callable:\n",
    "    μ = 2 #number of parents selected\n",
    "    λ = 5 #number of childred generated by the parents\n",
    "    sigma = 0.001\n",
    "\n",
    "    #build initial population\n",
    "    population = [a1, a2, a3, a4, a5]\n",
    "    win = [] #cointains the percentage of win of other strategy\n",
    "        \n",
    "    best_fitness = None\n",
    "  \n",
    "    for step in range(100 // λ): \n",
    "        #for each individual in population \n",
    "        for i in population:\n",
    "            #Evaluation = computing the fitness of an individual \n",
    "            win_percentage = fitness(i)\n",
    "            win.append(win_percentage)\n",
    "            if best_fitness is None or win_percentage > fitness(best_fitness):\n",
    "                best_fitness = i\n",
    "\n",
    "        #order the population in function of the %win [max..min]\n",
    "        population =  population[win.argsort()][::-1]    \n",
    "        #select the μ with max fitness and discard fitness - Truncation Selection\n",
    "        #q = number of parent which survive\n",
    "        q = population[:μ]\n",
    "\n",
    "        #join operation that is done by just replacing the population with the childern\n",
    "        population = []\n",
    "        #for each individual_selected = individual whose fitness are gratest\n",
    "        for z in q:\n",
    "            for _ in range(λ//μ):\n",
    "                mutated_individual = mutation(np.copy(z), sigma)  # Use np.copy for array, remove if z is an integer\n",
    "                population.append(mutated_individual)\n",
    "\n",
    "    player = best_fitness(state)\n",
    "    return player"
   ]
  },
  {
   "cell_type": "markdown",
   "metadata": {},
   "source": [
    "## Oversimplified match"
   ]
  },
  {
   "cell_type": "code",
   "execution_count": 74,
   "metadata": {},
   "outputs": [
    {
     "name": "stderr",
     "output_type": "stream",
     "text": [
      "INFO:root:init : <1 3 5 7 9>\n",
      "INFO:root:init : <1 3 5 7 9>\n"
     ]
    },
    {
     "ename": "TypeError",
     "evalue": "'tuple' object does not support item assignment",
     "output_type": "error",
     "traceback": [
      "\u001b[1;31m---------------------------------------------------------------------------\u001b[0m",
      "\u001b[1;31mTypeError\u001b[0m                                 Traceback (most recent call last)",
      "\u001b[1;32mc:\\Users\\zafon\\tmp\\compi23\\venv\\Lab2\\lab2-nim.ipynb Cell 21\u001b[0m line \u001b[0;36m1\n\u001b[0;32m      <a href='vscode-notebook-cell:/c%3A/Users/zafon/tmp/compi23/venv/Lab2/lab2-nim.ipynb#X26sZmlsZQ%3D%3D?line=7'>8</a>\u001b[0m player \u001b[39m=\u001b[39m \u001b[39m0\u001b[39m\n\u001b[0;32m     <a href='vscode-notebook-cell:/c%3A/Users/zafon/tmp/compi23/venv/Lab2/lab2-nim.ipynb#X26sZmlsZQ%3D%3D?line=9'>10</a>\u001b[0m \u001b[39mwhile\u001b[39;00m nim:\n\u001b[1;32m---> <a href='vscode-notebook-cell:/c%3A/Users/zafon/tmp/compi23/venv/Lab2/lab2-nim.ipynb#X26sZmlsZQ%3D%3D?line=10'>11</a>\u001b[0m     ply \u001b[39m=\u001b[39m strategies[player](nim) \n\u001b[0;32m     <a href='vscode-notebook-cell:/c%3A/Users/zafon/tmp/compi23/venv/Lab2/lab2-nim.ipynb#X26sZmlsZQ%3D%3D?line=11'>12</a>\u001b[0m     logging\u001b[39m.\u001b[39minfo(\u001b[39mf\u001b[39m\u001b[39m\"\u001b[39m\u001b[39mply: player \u001b[39m\u001b[39m{\u001b[39;00mplayer\u001b[39m}\u001b[39;00m\u001b[39m plays \u001b[39m\u001b[39m{\u001b[39;00mply\u001b[39m}\u001b[39;00m\u001b[39m\"\u001b[39m)\n\u001b[0;32m     <a href='vscode-notebook-cell:/c%3A/Users/zafon/tmp/compi23/venv/Lab2/lab2-nim.ipynb#X26sZmlsZQ%3D%3D?line=12'>13</a>\u001b[0m     nim\u001b[39m.\u001b[39mnimming(ply) \n",
      "\u001b[1;32mc:\\Users\\zafon\\tmp\\compi23\\venv\\Lab2\\lab2-nim.ipynb Cell 21\u001b[0m line \u001b[0;36m1\n\u001b[0;32m     <a href='vscode-notebook-cell:/c%3A/Users/zafon/tmp/compi23/venv/Lab2/lab2-nim.ipynb#X26sZmlsZQ%3D%3D?line=11'>12</a>\u001b[0m \u001b[39mfor\u001b[39;00m step \u001b[39min\u001b[39;00m \u001b[39mrange\u001b[39m(\u001b[39m100\u001b[39m \u001b[39m/\u001b[39m\u001b[39m/\u001b[39m λ): \n\u001b[0;32m     <a href='vscode-notebook-cell:/c%3A/Users/zafon/tmp/compi23/venv/Lab2/lab2-nim.ipynb#X26sZmlsZQ%3D%3D?line=12'>13</a>\u001b[0m     \u001b[39m#for each individual in population \u001b[39;00m\n\u001b[0;32m     <a href='vscode-notebook-cell:/c%3A/Users/zafon/tmp/compi23/venv/Lab2/lab2-nim.ipynb#X26sZmlsZQ%3D%3D?line=13'>14</a>\u001b[0m     \u001b[39mfor\u001b[39;00m i \u001b[39min\u001b[39;00m population:\n\u001b[0;32m     <a href='vscode-notebook-cell:/c%3A/Users/zafon/tmp/compi23/venv/Lab2/lab2-nim.ipynb#X26sZmlsZQ%3D%3D?line=14'>15</a>\u001b[0m         \u001b[39m#Evaluation = computing the fitness of an individual \u001b[39;00m\n\u001b[1;32m---> <a href='vscode-notebook-cell:/c%3A/Users/zafon/tmp/compi23/venv/Lab2/lab2-nim.ipynb#X26sZmlsZQ%3D%3D?line=15'>16</a>\u001b[0m         win_percentage \u001b[39m=\u001b[39m fitness(i)\n\u001b[0;32m     <a href='vscode-notebook-cell:/c%3A/Users/zafon/tmp/compi23/venv/Lab2/lab2-nim.ipynb#X26sZmlsZQ%3D%3D?line=16'>17</a>\u001b[0m         win\u001b[39m.\u001b[39mappend(win_percentage)\n\u001b[0;32m     <a href='vscode-notebook-cell:/c%3A/Users/zafon/tmp/compi23/venv/Lab2/lab2-nim.ipynb#X26sZmlsZQ%3D%3D?line=17'>18</a>\u001b[0m         \u001b[39mif\u001b[39;00m best_fitness \u001b[39mis\u001b[39;00m \u001b[39mNone\u001b[39;00m \u001b[39mor\u001b[39;00m win_percentage \u001b[39m>\u001b[39m fitness(best_fitness):\n",
      "\u001b[1;32mc:\\Users\\zafon\\tmp\\compi23\\venv\\Lab2\\lab2-nim.ipynb Cell 21\u001b[0m line \u001b[0;36m1\n\u001b[0;32m     <a href='vscode-notebook-cell:/c%3A/Users/zafon/tmp/compi23/venv/Lab2/lab2-nim.ipynb#X26sZmlsZQ%3D%3D?line=16'>17</a>\u001b[0m player \u001b[39m=\u001b[39m \u001b[39m0\u001b[39m\n\u001b[0;32m     <a href='vscode-notebook-cell:/c%3A/Users/zafon/tmp/compi23/venv/Lab2/lab2-nim.ipynb#X26sZmlsZQ%3D%3D?line=17'>18</a>\u001b[0m \u001b[39mwhile\u001b[39;00m nimGame:\n\u001b[1;32m---> <a href='vscode-notebook-cell:/c%3A/Users/zafon/tmp/compi23/venv/Lab2/lab2-nim.ipynb#X26sZmlsZQ%3D%3D?line=18'>19</a>\u001b[0m     ply \u001b[39m=\u001b[39m strategies[player](nimGame) \n\u001b[0;32m     <a href='vscode-notebook-cell:/c%3A/Users/zafon/tmp/compi23/venv/Lab2/lab2-nim.ipynb#X26sZmlsZQ%3D%3D?line=19'>20</a>\u001b[0m     logging\u001b[39m.\u001b[39minfo(\u001b[39mf\u001b[39m\u001b[39m\"\u001b[39m\u001b[39mply: player \u001b[39m\u001b[39m{\u001b[39;00mplayer\u001b[39m}\u001b[39;00m\u001b[39m plays \u001b[39m\u001b[39m{\u001b[39;00mply\u001b[39m}\u001b[39;00m\u001b[39m\"\u001b[39m)\n\u001b[0;32m     <a href='vscode-notebook-cell:/c%3A/Users/zafon/tmp/compi23/venv/Lab2/lab2-nim.ipynb#X26sZmlsZQ%3D%3D?line=20'>21</a>\u001b[0m     nimGame\u001b[39m.\u001b[39mnimming(ply) \n",
      "\u001b[1;32mc:\\Users\\zafon\\tmp\\compi23\\venv\\Lab2\\lab2-nim.ipynb Cell 21\u001b[0m line \u001b[0;36m8\n\u001b[0;32m      <a href='vscode-notebook-cell:/c%3A/Users/zafon/tmp/compi23/venv/Lab2/lab2-nim.ipynb#X26sZmlsZQ%3D%3D?line=5'>6</a>\u001b[0m num_objects \u001b[39m=\u001b[39m \u001b[39m1\u001b[39m\n\u001b[0;32m      <a href='vscode-notebook-cell:/c%3A/Users/zafon/tmp/compi23/venv/Lab2/lab2-nim.ipynb#X26sZmlsZQ%3D%3D?line=6'>7</a>\u001b[0m \u001b[39mif\u001b[39;00m state\u001b[39m.\u001b[39mrows[row] \u001b[39m>\u001b[39m\u001b[39m=\u001b[39m num_objects:\n\u001b[1;32m----> <a href='vscode-notebook-cell:/c%3A/Users/zafon/tmp/compi23/venv/Lab2/lab2-nim.ipynb#X26sZmlsZQ%3D%3D?line=7'>8</a>\u001b[0m     state\u001b[39m.\u001b[39;49mrows[row] \u001b[39m-\u001b[39m\u001b[39m=\u001b[39m num_objects\n\u001b[0;32m      <a href='vscode-notebook-cell:/c%3A/Users/zafon/tmp/compi23/venv/Lab2/lab2-nim.ipynb#X26sZmlsZQ%3D%3D?line=8'>9</a>\u001b[0m \u001b[39mreturn\u001b[39;00m Nimply(row, state\u001b[39m.\u001b[39mrows[row])\n",
      "\u001b[1;31mTypeError\u001b[0m: 'tuple' object does not support item assignment"
     ]
    }
   ],
   "source": [
    "logging.getLogger().setLevel(logging.INFO) \n",
    "\n",
    "es = evolutionary_strategy\n",
    "strategies = [es, pure_random]\n",
    "\n",
    "nim = Nim(5) #5 file\n",
    "logging.info(f\"init : {nim}\") \n",
    "player = 0\n",
    "\n",
    "while nim:\n",
    "    ply = strategies[player](nim) \n",
    "    logging.info(f\"ply: player {player} plays {ply}\")\n",
    "    nim.nimming(ply) \n",
    "    logging.info(f\"status: {nim}\")\n",
    "    player = 1 - player \n",
    "\n",
    "logging.info(f\"status: Player {player} won!\")\n",
    "\n",
    "\n"
   ]
  }
 ],
 "metadata": {
  "kernelspec": {
   "display_name": "Python 3.10.7 ('ci22-dPIXJ0_o-py3.10')",
   "language": "python",
   "name": "python3"
  },
  "language_info": {
   "codemirror_mode": {
    "name": "ipython",
    "version": 3
   },
   "file_extension": ".py",
   "mimetype": "text/x-python",
   "name": "python",
   "nbconvert_exporter": "python",
   "pygments_lexer": "ipython3",
   "version": "3.12.0"
  },
  "vscode": {
   "interpreter": {
    "hash": "10197e8e2f2aa67e2c349105091c77f4cd384fce4877865f002d9ec653f96bc0"
   }
  }
 },
 "nbformat": 4,
 "nbformat_minor": 2
}
